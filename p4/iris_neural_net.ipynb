{
 "cells": [
  {
   "cell_type": "code",
   "execution_count": 4,
   "id": "282c342e-aa2c-4112-a80c-adaffb9d3583",
   "metadata": {},
   "outputs": [],
   "source": [
    "import tensorflow as tf\n",
    "from tensorflow.keras import layers\n",
    "import pandas as pd\n",
    "import numpy as np\n",
    "from tensorflow.keras import datasets, layers, models\n",
    "from tensorflow.keras.utils import to_categorical"
   ]
  },
  {
   "cell_type": "code",
   "execution_count": 5,
   "id": "04d35529-b765-423e-9e95-107d2918c876",
   "metadata": {},
   "outputs": [
    {
     "name": "stdout",
     "output_type": "stream",
     "text": [
      "iris.csv\n"
     ]
    }
   ],
   "source": [
    "dataFile = \"iris.csv\"\n",
    "print(dataFile)"
   ]
  },
  {
   "cell_type": "code",
   "execution_count": 6,
   "id": "766c885b-bc52-41cc-98b3-825880412934",
   "metadata": {},
   "outputs": [
    {
     "data": {
      "text/html": [
       "<div>\n",
       "<style scoped>\n",
       "    .dataframe tbody tr th:only-of-type {\n",
       "        vertical-align: middle;\n",
       "    }\n",
       "\n",
       "    .dataframe tbody tr th {\n",
       "        vertical-align: top;\n",
       "    }\n",
       "\n",
       "    .dataframe thead th {\n",
       "        text-align: right;\n",
       "    }\n",
       "</style>\n",
       "<table border=\"1\" class=\"dataframe\">\n",
       "  <thead>\n",
       "    <tr style=\"text-align: right;\">\n",
       "      <th></th>\n",
       "      <th>5.1</th>\n",
       "      <th>3.5</th>\n",
       "      <th>1.4</th>\n",
       "      <th>0.2</th>\n",
       "      <th>Iris-setosa</th>\n",
       "    </tr>\n",
       "  </thead>\n",
       "  <tbody>\n",
       "    <tr>\n",
       "      <th>0</th>\n",
       "      <td>4.9</td>\n",
       "      <td>3.0</td>\n",
       "      <td>1.4</td>\n",
       "      <td>0.2</td>\n",
       "      <td>Iris-setosa</td>\n",
       "    </tr>\n",
       "    <tr>\n",
       "      <th>1</th>\n",
       "      <td>4.7</td>\n",
       "      <td>3.2</td>\n",
       "      <td>1.3</td>\n",
       "      <td>0.2</td>\n",
       "      <td>Iris-setosa</td>\n",
       "    </tr>\n",
       "    <tr>\n",
       "      <th>2</th>\n",
       "      <td>4.6</td>\n",
       "      <td>3.1</td>\n",
       "      <td>1.5</td>\n",
       "      <td>0.2</td>\n",
       "      <td>Iris-setosa</td>\n",
       "    </tr>\n",
       "    <tr>\n",
       "      <th>3</th>\n",
       "      <td>5.0</td>\n",
       "      <td>3.6</td>\n",
       "      <td>1.4</td>\n",
       "      <td>0.2</td>\n",
       "      <td>Iris-setosa</td>\n",
       "    </tr>\n",
       "    <tr>\n",
       "      <th>4</th>\n",
       "      <td>5.4</td>\n",
       "      <td>3.9</td>\n",
       "      <td>1.7</td>\n",
       "      <td>0.4</td>\n",
       "      <td>Iris-setosa</td>\n",
       "    </tr>\n",
       "  </tbody>\n",
       "</table>\n",
       "</div>"
      ],
      "text/plain": [
       "   5.1  3.5  1.4  0.2  Iris-setosa\n",
       "0  4.9  3.0  1.4  0.2  Iris-setosa\n",
       "1  4.7  3.2  1.3  0.2  Iris-setosa\n",
       "2  4.6  3.1  1.5  0.2  Iris-setosa\n",
       "3  5.0  3.6  1.4  0.2  Iris-setosa\n",
       "4  5.4  3.9  1.7  0.4  Iris-setosa"
      ]
     },
     "execution_count": 6,
     "metadata": {},
     "output_type": "execute_result"
    }
   ],
   "source": [
    "df = pd.read_csv(dataFile)\n",
    "df.head()"
   ]
  },
  {
   "cell_type": "code",
   "execution_count": 7,
   "id": "571f6981-d434-496e-8373-e6341a3494bf",
   "metadata": {},
   "outputs": [],
   "source": [
    "X = df.iloc[:,0:4].values\n",
    "y = df.iloc[:,4].values"
   ]
  },
  {
   "cell_type": "code",
   "execution_count": 8,
   "id": "7bf3bd55-af55-4804-a482-39b21c52d2e4",
   "metadata": {},
   "outputs": [
    {
     "name": "stdout",
     "output_type": "stream",
     "text": [
      "[[4.9 3.  1.4 0.2]\n",
      " [4.7 3.2 1.3 0.2]\n",
      " [4.6 3.1 1.5 0.2]\n",
      " [5.  3.6 1.4 0.2]\n",
      " [5.4 3.9 1.7 0.4]]\n",
      "['Iris-setosa' 'Iris-setosa' 'Iris-setosa' 'Iris-setosa' 'Iris-setosa']\n"
     ]
    }
   ],
   "source": [
    "print(X[0:5])\n",
    "print(y[0:5])"
   ]
  },
  {
   "cell_type": "code",
   "execution_count": 9,
   "id": "4a7aad3c-dadf-4765-97eb-1ba33432c948",
   "metadata": {},
   "outputs": [
    {
     "name": "stdout",
     "output_type": "stream",
     "text": [
      "(149, 4)\n",
      "(149,)\n"
     ]
    }
   ],
   "source": [
    "print(X.shape)\n",
    "print(y.shape)"
   ]
  },
  {
   "cell_type": "code",
   "execution_count": 10,
   "id": "b9822e73-0f78-4c8a-9edc-0a734c3ec645",
   "metadata": {},
   "outputs": [],
   "source": [
    "from sklearn.preprocessing import LabelEncoder\n",
    "encoder =  LabelEncoder()\n",
    "y1 = encoder.fit_transform(y)"
   ]
  },
  {
   "cell_type": "code",
   "execution_count": 11,
   "id": "097626a9-add3-450e-8e06-33cbf6be8aa5",
   "metadata": {},
   "outputs": [
    {
     "name": "stdout",
     "output_type": "stream",
     "text": [
      "[0 0 0 0 0 0 0 0 0 0 0 0 0 0 0 0 0 0 0 0 0 0 0 0 0 0 0 0 0 0 0 0 0 0 0 0 0\n",
      " 0 0 0 0 0 0 0 0 0 0 0 0 1 1 1 1 1 1 1 1 1 1 1 1 1 1 1 1 1 1 1 1 1 1 1 1 1\n",
      " 1 1 1 1 1 1 1 1 1 1 1 1 1 1 1 1 1 1 1 1 1 1 1 1 1 2 2 2 2 2 2 2 2 2 2 2 2\n",
      " 2 2 2 2 2 2 2 2 2 2 2 2 2 2 2 2 2 2 2 2 2 2 2 2 2 2 2 2 2 2 2 2 2 2 2 2 2\n",
      " 2]\n"
     ]
    }
   ],
   "source": [
    "print(y1)"
   ]
  },
  {
   "cell_type": "code",
   "execution_count": 12,
   "id": "b21f0284-5ea2-4436-9f18-583c57dabae7",
   "metadata": {},
   "outputs": [
    {
     "name": "stdout",
     "output_type": "stream",
     "text": [
      "[[ True False False]\n",
      " [ True False False]\n",
      " [ True False False]\n",
      " [ True False False]\n",
      " [ True False False]]\n"
     ]
    }
   ],
   "source": [
    "Y = pd.get_dummies(y1).values\n",
    "print(Y[0:5])"
   ]
  },
  {
   "cell_type": "code",
   "execution_count": 13,
   "id": "a1b3458b-a5e8-4d6a-bf89-f88d2f6b1b10",
   "metadata": {},
   "outputs": [],
   "source": [
    "from sklearn.model_selection import train_test_split\n",
    "X_train, X_test, y_train, y_test = train_test_split(X, Y, test_size=0.2, random_state=0)"
   ]
  },
  {
   "cell_type": "code",
   "execution_count": 14,
   "id": "ec94074c-a192-4399-8d63-c49f8eb764ba",
   "metadata": {},
   "outputs": [
    {
     "name": "stdout",
     "output_type": "stream",
     "text": [
      "[[5.2 3.4 1.4 0.2]\n",
      " [5.1 2.5 3.  1.1]\n",
      " [6.2 2.9 4.3 1.3]\n",
      " [5.9 3.2 4.8 1.8]\n",
      " [5.1 3.8 1.5 0.3]]\n"
     ]
    }
   ],
   "source": [
    "print(X_train[0:5])"
   ]
  },
  {
   "cell_type": "code",
   "execution_count": 15,
   "id": "e92b0006-7d0d-487c-ade2-1fc9fbef1b75",
   "metadata": {},
   "outputs": [
    {
     "name": "stdout",
     "output_type": "stream",
     "text": [
      "[[ True False False]\n",
      " [False  True False]\n",
      " [False  True False]\n",
      " [False  True False]\n",
      " [ True False False]]\n"
     ]
    }
   ],
   "source": [
    "print(y_train[0:5])"
   ]
  },
  {
   "cell_type": "code",
   "execution_count": 16,
   "id": "baaf8541-0b33-4226-b5b8-45aae58e7b81",
   "metadata": {},
   "outputs": [
    {
     "name": "stdout",
     "output_type": "stream",
     "text": [
      "[[6.1 2.6 5.6 1.4]\n",
      " [6.5 3.2 5.1 2. ]\n",
      " [5.  2.  3.5 1. ]\n",
      " [5.5 2.4 3.7 1. ]\n",
      " [4.4 2.9 1.4 0.2]]\n"
     ]
    }
   ],
   "source": [
    "print(X_test[0:5])"
   ]
  },
  {
   "cell_type": "code",
   "execution_count": 17,
   "id": "65645ad6-823a-47b6-b40e-69dc156eaac7",
   "metadata": {},
   "outputs": [
    {
     "name": "stdout",
     "output_type": "stream",
     "text": [
      "[[False False  True]\n",
      " [False False  True]\n",
      " [False  True False]\n",
      " [False  True False]\n",
      " [ True False False]]\n"
     ]
    }
   ],
   "source": [
    "print(y_test[0:5])"
   ]
  },
  {
   "cell_type": "code",
   "execution_count": 24,
   "id": "0a49e05b-6fc3-427b-b1b6-4e08e40aec94",
   "metadata": {},
   "outputs": [
    {
     "data": {
      "text/plain": [
       "<keras.engine.sequential.Sequential at 0x1a9133f85b0>"
      ]
     },
     "execution_count": 24,
     "metadata": {},
     "output_type": "execute_result"
    }
   ],
   "source": [
    "model = tf.keras.Sequential([\n",
    "    tf.keras.layers.Dense(10, activation='relu'),\n",
    "    tf.keras.layers.Dense(10, activation='relu'),\n",
    "    tf.keras.layers.Dense(3, activation='sigmoid')\n",
    "  ])\n",
    "model"
   ]
  },
  {
   "cell_type": "code",
   "execution_count": 25,
   "id": "e2dd47cf-ace5-4868-8c6d-37b4fc356aef",
   "metadata": {},
   "outputs": [],
   "source": [
    "model.compile(optimizer='rmsprop',\n",
    "              loss='categorical_crossentropy',\n",
    "              metrics=['accuracy'])"
   ]
  },
  {
   "cell_type": "code",
   "execution_count": 26,
   "id": "b8fa7767-1a5e-4d27-8d4f-baecb255de74",
   "metadata": {},
   "outputs": [
    {
     "name": "stdout",
     "output_type": "stream",
     "text": [
      "Epoch 1/100\n",
      "3/3 [==============================] - 1s 5ms/step - loss: 2.1758 - accuracy: 0.3529\n",
      "Epoch 2/100\n",
      "3/3 [==============================] - 0s 5ms/step - loss: 1.9383 - accuracy: 0.3529\n",
      "Epoch 3/100\n",
      "3/3 [==============================] - 0s 5ms/step - loss: 1.7837 - accuracy: 0.3529\n",
      "Epoch 4/100\n",
      "3/3 [==============================] - 0s 5ms/step - loss: 1.6568 - accuracy: 0.3529\n",
      "Epoch 5/100\n",
      "3/3 [==============================] - 0s 5ms/step - loss: 1.5569 - accuracy: 0.3529\n",
      "Epoch 6/100\n",
      "3/3 [==============================] - 0s 5ms/step - loss: 1.4654 - accuracy: 0.3529\n",
      "Epoch 7/100\n",
      "3/3 [==============================] - 0s 5ms/step - loss: 1.3964 - accuracy: 0.3529\n",
      "Epoch 8/100\n",
      "3/3 [==============================] - 0s 4ms/step - loss: 1.3489 - accuracy: 0.3529\n",
      "Epoch 9/100\n",
      "3/3 [==============================] - 0s 5ms/step - loss: 1.3073 - accuracy: 0.3529\n",
      "Epoch 10/100\n",
      "3/3 [==============================] - 0s 5ms/step - loss: 1.2697 - accuracy: 0.3529\n",
      "Epoch 11/100\n",
      "3/3 [==============================] - 0s 5ms/step - loss: 1.2307 - accuracy: 0.3529\n",
      "Epoch 12/100\n",
      "3/3 [==============================] - 0s 4ms/step - loss: 1.2019 - accuracy: 0.3529\n",
      "Epoch 13/100\n",
      "3/3 [==============================] - 0s 5ms/step - loss: 1.1747 - accuracy: 0.3529\n",
      "Epoch 14/100\n",
      "3/3 [==============================] - 0s 4ms/step - loss: 1.1504 - accuracy: 0.3529\n",
      "Epoch 15/100\n",
      "3/3 [==============================] - 0s 5ms/step - loss: 1.1322 - accuracy: 0.3529\n",
      "Epoch 16/100\n",
      "3/3 [==============================] - 0s 5ms/step - loss: 1.1120 - accuracy: 0.3529\n",
      "Epoch 17/100\n",
      "3/3 [==============================] - 0s 5ms/step - loss: 1.0967 - accuracy: 0.3529\n",
      "Epoch 18/100\n",
      "3/3 [==============================] - 0s 4ms/step - loss: 1.0825 - accuracy: 0.3529\n",
      "Epoch 19/100\n",
      "3/3 [==============================] - 0s 4ms/step - loss: 1.0697 - accuracy: 0.3529\n",
      "Epoch 20/100\n",
      "3/3 [==============================] - 0s 6ms/step - loss: 1.0564 - accuracy: 0.3529\n",
      "Epoch 21/100\n",
      "3/3 [==============================] - 0s 4ms/step - loss: 1.0483 - accuracy: 0.3529\n",
      "Epoch 22/100\n",
      "3/3 [==============================] - 0s 5ms/step - loss: 1.0370 - accuracy: 0.3529\n",
      "Epoch 23/100\n",
      "3/3 [==============================] - 0s 4ms/step - loss: 1.0319 - accuracy: 0.3529\n",
      "Epoch 24/100\n",
      "3/3 [==============================] - 0s 5ms/step - loss: 1.0254 - accuracy: 0.3529\n",
      "Epoch 25/100\n",
      "3/3 [==============================] - 0s 5ms/step - loss: 1.0176 - accuracy: 0.3529\n",
      "Epoch 26/100\n",
      "3/3 [==============================] - 0s 4ms/step - loss: 1.0147 - accuracy: 0.3613\n",
      "Epoch 27/100\n",
      "3/3 [==============================] - 0s 4ms/step - loss: 1.0047 - accuracy: 0.3697\n",
      "Epoch 28/100\n",
      "3/3 [==============================] - 0s 5ms/step - loss: 0.9998 - accuracy: 0.3613\n",
      "Epoch 29/100\n",
      "3/3 [==============================] - 0s 5ms/step - loss: 0.9933 - accuracy: 0.3697\n",
      "Epoch 30/100\n",
      "3/3 [==============================] - 0s 6ms/step - loss: 0.9876 - accuracy: 0.3613\n",
      "Epoch 31/100\n",
      "3/3 [==============================] - 0s 4ms/step - loss: 0.9800 - accuracy: 0.3529\n",
      "Epoch 32/100\n",
      "3/3 [==============================] - 0s 4ms/step - loss: 0.9735 - accuracy: 0.4706\n",
      "Epoch 33/100\n",
      "3/3 [==============================] - 0s 5ms/step - loss: 0.9685 - accuracy: 0.3529\n",
      "Epoch 34/100\n",
      "3/3 [==============================] - 0s 5ms/step - loss: 0.9636 - accuracy: 0.4118\n",
      "Epoch 35/100\n",
      "3/3 [==============================] - 0s 5ms/step - loss: 0.9570 - accuracy: 0.5714\n",
      "Epoch 36/100\n",
      "3/3 [==============================] - 0s 5ms/step - loss: 0.9476 - accuracy: 0.4034\n",
      "Epoch 37/100\n",
      "3/3 [==============================] - 0s 5ms/step - loss: 0.9421 - accuracy: 0.3697\n",
      "Epoch 38/100\n",
      "3/3 [==============================] - 0s 5ms/step - loss: 0.9341 - accuracy: 0.4622\n",
      "Epoch 39/100\n",
      "3/3 [==============================] - 0s 5ms/step - loss: 0.9273 - accuracy: 0.3697\n",
      "Epoch 40/100\n",
      "3/3 [==============================] - 0s 5ms/step - loss: 0.9206 - accuracy: 0.4874\n",
      "Epoch 41/100\n",
      "3/3 [==============================] - 0s 5ms/step - loss: 0.9120 - accuracy: 0.4118\n",
      "Epoch 42/100\n",
      "3/3 [==============================] - 0s 5ms/step - loss: 0.9086 - accuracy: 0.5630\n",
      "Epoch 43/100\n",
      "3/3 [==============================] - 0s 5ms/step - loss: 0.8944 - accuracy: 0.5378\n",
      "Epoch 44/100\n",
      "3/3 [==============================] - 0s 5ms/step - loss: 0.8874 - accuracy: 0.5378\n",
      "Epoch 45/100\n",
      "3/3 [==============================] - 0s 4ms/step - loss: 0.8812 - accuracy: 0.6387\n",
      "Epoch 46/100\n",
      "3/3 [==============================] - 0s 5ms/step - loss: 0.8694 - accuracy: 0.6723\n",
      "Epoch 47/100\n",
      "3/3 [==============================] - 0s 5ms/step - loss: 0.8612 - accuracy: 0.6471\n",
      "Epoch 48/100\n",
      "3/3 [==============================] - 0s 6ms/step - loss: 0.8521 - accuracy: 0.6891\n",
      "Epoch 49/100\n",
      "3/3 [==============================] - 0s 5ms/step - loss: 0.8434 - accuracy: 0.6891\n",
      "Epoch 50/100\n",
      "3/3 [==============================] - 0s 5ms/step - loss: 0.8339 - accuracy: 0.7731\n",
      "Epoch 51/100\n",
      "3/3 [==============================] - 0s 4ms/step - loss: 0.8254 - accuracy: 0.8319\n",
      "Epoch 52/100\n",
      "3/3 [==============================] - 0s 5ms/step - loss: 0.8137 - accuracy: 0.6807\n",
      "Epoch 53/100\n",
      "3/3 [==============================] - 0s 4ms/step - loss: 0.8051 - accuracy: 0.7479\n",
      "Epoch 54/100\n",
      "3/3 [==============================] - 0s 5ms/step - loss: 0.7947 - accuracy: 0.7563\n",
      "Epoch 55/100\n",
      "3/3 [==============================] - 0s 4ms/step - loss: 0.7871 - accuracy: 0.6723\n",
      "Epoch 56/100\n",
      "3/3 [==============================] - 0s 5ms/step - loss: 0.7760 - accuracy: 0.7815\n",
      "Epoch 57/100\n",
      "3/3 [==============================] - 0s 5ms/step - loss: 0.7650 - accuracy: 0.6975\n",
      "Epoch 58/100\n",
      "3/3 [==============================] - 0s 5ms/step - loss: 0.7577 - accuracy: 0.6807\n",
      "Epoch 59/100\n",
      "3/3 [==============================] - 0s 5ms/step - loss: 0.7456 - accuracy: 0.7227\n",
      "Epoch 60/100\n",
      "3/3 [==============================] - 0s 4ms/step - loss: 0.7361 - accuracy: 0.6891\n",
      "Epoch 61/100\n",
      "3/3 [==============================] - 0s 5ms/step - loss: 0.7291 - accuracy: 0.6975\n",
      "Epoch 62/100\n",
      "3/3 [==============================] - 0s 4ms/step - loss: 0.7184 - accuracy: 0.7731\n",
      "Epoch 63/100\n",
      "3/3 [==============================] - 0s 5ms/step - loss: 0.7094 - accuracy: 0.7143\n",
      "Epoch 64/100\n",
      "3/3 [==============================] - 0s 5ms/step - loss: 0.6971 - accuracy: 0.7143\n",
      "Epoch 65/100\n",
      "3/3 [==============================] - 0s 4ms/step - loss: 0.6886 - accuracy: 0.7647\n",
      "Epoch 66/100\n",
      "3/3 [==============================] - 0s 5ms/step - loss: 0.6787 - accuracy: 0.7395\n",
      "Epoch 67/100\n",
      "3/3 [==============================] - 0s 4ms/step - loss: 0.6689 - accuracy: 0.7143\n",
      "Epoch 68/100\n",
      "3/3 [==============================] - 0s 5ms/step - loss: 0.6603 - accuracy: 0.7815\n",
      "Epoch 69/100\n",
      "3/3 [==============================] - 0s 4ms/step - loss: 0.6517 - accuracy: 0.7227\n",
      "Epoch 70/100\n",
      "3/3 [==============================] - 0s 5ms/step - loss: 0.6408 - accuracy: 0.8571\n",
      "Epoch 71/100\n",
      "3/3 [==============================] - 0s 5ms/step - loss: 0.6351 - accuracy: 0.7563\n",
      "Epoch 72/100\n",
      "3/3 [==============================] - 0s 6ms/step - loss: 0.6241 - accuracy: 0.7227\n",
      "Epoch 73/100\n",
      "3/3 [==============================] - 0s 4ms/step - loss: 0.6144 - accuracy: 0.7479\n",
      "Epoch 74/100\n",
      "3/3 [==============================] - 0s 6ms/step - loss: 0.6070 - accuracy: 0.8571\n",
      "Epoch 75/100\n",
      "3/3 [==============================] - 0s 3ms/step - loss: 0.5991 - accuracy: 0.6891\n",
      "Epoch 76/100\n",
      "3/3 [==============================] - 0s 4ms/step - loss: 0.5903 - accuracy: 0.8824\n",
      "Epoch 77/100\n",
      "3/3 [==============================] - 0s 5ms/step - loss: 0.5826 - accuracy: 0.8319\n",
      "Epoch 78/100\n",
      "3/3 [==============================] - 0s 5ms/step - loss: 0.5752 - accuracy: 0.9244\n",
      "Epoch 79/100\n",
      "3/3 [==============================] - 0s 4ms/step - loss: 0.5702 - accuracy: 0.8235\n",
      "Epoch 80/100\n",
      "3/3 [==============================] - 0s 4ms/step - loss: 0.5606 - accuracy: 0.7227\n",
      "Epoch 81/100\n",
      "3/3 [==============================] - 0s 5ms/step - loss: 0.5542 - accuracy: 0.8067\n",
      "Epoch 82/100\n",
      "3/3 [==============================] - 0s 4ms/step - loss: 0.5463 - accuracy: 0.8067\n",
      "Epoch 83/100\n",
      "3/3 [==============================] - 0s 4ms/step - loss: 0.5405 - accuracy: 0.9244\n",
      "Epoch 84/100\n",
      "3/3 [==============================] - 0s 5ms/step - loss: 0.5324 - accuracy: 0.7899\n",
      "Epoch 85/100\n",
      "3/3 [==============================] - 0s 5ms/step - loss: 0.5305 - accuracy: 0.7899\n",
      "Epoch 86/100\n",
      "3/3 [==============================] - 0s 5ms/step - loss: 0.5203 - accuracy: 0.8992\n",
      "Epoch 87/100\n",
      "3/3 [==============================] - 0s 5ms/step - loss: 0.5142 - accuracy: 0.9664\n",
      "Epoch 88/100\n",
      "3/3 [==============================] - 0s 5ms/step - loss: 0.5077 - accuracy: 0.8739\n",
      "Epoch 89/100\n",
      "3/3 [==============================] - 0s 5ms/step - loss: 0.5013 - accuracy: 0.8655\n",
      "Epoch 90/100\n",
      "3/3 [==============================] - 0s 5ms/step - loss: 0.4958 - accuracy: 0.9664\n",
      "Epoch 91/100\n",
      "3/3 [==============================] - 0s 4ms/step - loss: 0.4894 - accuracy: 0.8908\n",
      "Epoch 92/100\n",
      "3/3 [==============================] - 0s 5ms/step - loss: 0.4827 - accuracy: 0.8992\n",
      "Epoch 93/100\n",
      "3/3 [==============================] - 0s 5ms/step - loss: 0.4766 - accuracy: 0.8824\n",
      "Epoch 94/100\n",
      "3/3 [==============================] - 0s 4ms/step - loss: 0.4742 - accuracy: 0.8824\n",
      "Epoch 95/100\n",
      "3/3 [==============================] - 0s 5ms/step - loss: 0.4658 - accuracy: 0.9412\n",
      "Epoch 96/100\n",
      "3/3 [==============================] - 0s 4ms/step - loss: 0.4597 - accuracy: 0.9244\n",
      "Epoch 97/100\n",
      "3/3 [==============================] - 0s 4ms/step - loss: 0.4570 - accuracy: 0.9412\n",
      "Epoch 98/100\n",
      "3/3 [==============================] - 0s 5ms/step - loss: 0.4505 - accuracy: 0.9664\n",
      "Epoch 99/100\n",
      "3/3 [==============================] - 0s 4ms/step - loss: 0.4433 - accuracy: 0.9412\n",
      "Epoch 100/100\n",
      "3/3 [==============================] - 0s 4ms/step - loss: 0.4381 - accuracy: 0.9160\n"
     ]
    }
   ],
   "source": [
    "with tf.device('/gpu:0'):\n",
    "\tmodel.fit(X_train, y_train, batch_size=50, epochs=100)"
   ]
  },
  {
   "cell_type": "code",
   "execution_count": 27,
   "id": "7b62cddb-572f-4d99-8df2-64c5c20a16a1",
   "metadata": {},
   "outputs": [
    {
     "name": "stdout",
     "output_type": "stream",
     "text": [
      "Test loss: 0.43670424818992615\n",
      "Test accuracy: 1.0\n"
     ]
    }
   ],
   "source": [
    "loss, accuracy = model.evaluate(X_test, y_test, verbose=0)\n",
    "print('Test loss:', loss)\n",
    "print('Test accuracy:', accuracy)"
   ]
  },
  {
   "cell_type": "code",
   "execution_count": 28,
   "id": "4460f551-50da-45ae-b127-9134c160e8b3",
   "metadata": {},
   "outputs": [
    {
     "name": "stdout",
     "output_type": "stream",
     "text": [
      "1/1 [==============================] - 0s 38ms/step\n"
     ]
    },
    {
     "data": {
      "text/plain": [
       "array([[0.04381043, 0.3996038 , 0.50200427],\n",
       "       [0.03956152, 0.4141643 , 0.46915364],\n",
       "       [0.13365373, 0.49046975, 0.38511094],\n",
       "       [0.13018572, 0.50232947, 0.3724209 ],\n",
       "       [0.87083834, 0.40988076, 0.4503499 ],\n",
       "       [0.01631912, 0.33153227, 0.5246127 ],\n",
       "       [0.03064852, 0.38888627, 0.4594049 ],\n",
       "       [0.10246772, 0.4880054 , 0.41399416],\n",
       "       [0.05023609, 0.3995086 , 0.46573985],\n",
       "       [0.0856595 , 0.48236638, 0.4355288 ],\n",
       "       [0.87096864, 0.39487785, 0.4337592 ],\n",
       "       [0.8450002 , 0.4045666 , 0.41464695],\n",
       "       [0.08288918, 0.46733204, 0.43559298],\n",
       "       [0.84345937, 0.4002219 , 0.4098098 ],\n",
       "       [0.88986415, 0.40276432, 0.4669516 ],\n",
       "       [0.05111613, 0.42506355, 0.45589548],\n",
       "       [0.02920999, 0.3795869 , 0.4867727 ],\n",
       "       [0.0811825 , 0.4788123 , 0.3793761 ],\n",
       "       [0.90381795, 0.3775548 , 0.4554348 ],\n",
       "       [0.93829316, 0.36361355, 0.50464916],\n",
       "       [0.69047403, 0.4385837 , 0.35724357],\n",
       "       [0.88895184, 0.38822252, 0.45172212],\n",
       "       [0.05988876, 0.45747268, 0.40108722],\n",
       "       [0.8161328 , 0.4085321 , 0.3865522 ],\n",
       "       [0.06661601, 0.45506036, 0.43137807],\n",
       "       [0.12924299, 0.4870579 , 0.41546997],\n",
       "       [0.07346523, 0.46560073, 0.42490187],\n",
       "       [0.9105888 , 0.37214246, 0.46220794],\n",
       "       [0.90352947, 0.38433957, 0.45654774],\n",
       "       [0.01874012, 0.34736067, 0.47717062]], dtype=float32)"
      ]
     },
     "execution_count": 28,
     "metadata": {},
     "output_type": "execute_result"
    }
   ],
   "source": [
    "y_pred = model.predict(X_test)\n",
    "y_pred"
   ]
  },
  {
   "cell_type": "code",
   "execution_count": 29,
   "id": "7443d371-157d-43c7-b9a0-103c7003edd4",
   "metadata": {},
   "outputs": [
    {
     "name": "stdout",
     "output_type": "stream",
     "text": [
      "Actual: [2 2 1 1 0 2 2 1 2 1 0 0 1 0 0 2 2 1 0 0 0 0 1 0 1 1 1 0 0 2]\n",
      "Predicted: [2 2 1 1 0 2 2 1 2 1 0 0 1 0 0 2 2 1 0 0 0 0 1 0 1 1 1 0 0 2]\n"
     ]
    }
   ],
   "source": [
    "actual = np.argmax(y_test,axis=1)\n",
    "predicted = np.argmax(y_pred,axis=1)\n",
    "print(f\"Actual: {actual}\")\n",
    "print(f\"Predicted: {predicted}\")"
   ]
  },
  {
   "attachments": {},
   "cell_type": "markdown",
   "id": "f71debb6",
   "metadata": {},
   "source": [
    "Teniendo una modificación pequeña, solamente modificando solamente las funciones de activación de 'sigmoid' a 'relu' de las primeras 2 capas de 10 neuronas cada una y la utilización de la GPU para el entrenamiento del modelo, se obtuvo ya un accuracy con los datos de testing de 100%, por esto, no se modifico algo adicional."
   ]
  }
 ],
 "metadata": {
  "kernelspec": {
   "display_name": "Python 3 (ipykernel)",
   "language": "python",
   "name": "python3"
  },
  "language_info": {
   "codemirror_mode": {
    "name": "ipython",
    "version": 3
   },
   "file_extension": ".py",
   "mimetype": "text/x-python",
   "name": "python",
   "nbconvert_exporter": "python",
   "pygments_lexer": "ipython3",
   "version": "3.9.16"
  }
 },
 "nbformat": 4,
 "nbformat_minor": 5
}
